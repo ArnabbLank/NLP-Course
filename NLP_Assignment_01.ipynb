{
  "cells": [
    {
      "cell_type": "code",
      "execution_count": 1,
      "metadata": {
        "colab": {
          "base_uri": "https://localhost:8080/"
        },
        "id": "XxaAc5pOhFOG",
        "outputId": "bb608315-a7f8-4fba-9cbc-322c1adf8bdb"
      },
      "outputs": [
        {
          "output_type": "stream",
          "name": "stdout",
          "text": [
            "Looking in indexes: https://pypi.org/simple, https://us-python.pkg.dev/colab-wheels/public/simple/\n",
            "Collecting langdetect\n",
            "  Downloading langdetect-1.0.9.tar.gz (981 kB)\n",
            "\u001b[K     |████████████████████████████████| 981 kB 33.0 MB/s \n",
            "\u001b[?25hRequirement already satisfied: six in /usr/local/lib/python3.7/dist-packages (from langdetect) (1.15.0)\n",
            "Building wheels for collected packages: langdetect\n",
            "  Building wheel for langdetect (setup.py) ... \u001b[?25l\u001b[?25hdone\n",
            "  Created wheel for langdetect: filename=langdetect-1.0.9-py3-none-any.whl size=993242 sha256=a37ba3c9e9c156986d7521ffe25ce5e970bc8e3462438274bf9d002fe46a5097\n",
            "  Stored in directory: /root/.cache/pip/wheels/c5/96/8a/f90c59ed25d75e50a8c10a1b1c2d4c402e4dacfa87f3aff36a\n",
            "Successfully built langdetect\n",
            "Installing collected packages: langdetect\n",
            "Successfully installed langdetect-1.0.9\n"
          ]
        }
      ],
      "source": [
        "!pip install langdetect"
      ]
    },
    {
      "cell_type": "code",
      "execution_count": 2,
      "metadata": {
        "id": "eNvVzrlgARBf"
      },
      "outputs": [],
      "source": [
        "import numpy as np\n",
        "import pandas as pd\n",
        "import random\n",
        "import time\n",
        "import os\n",
        "import json\n",
        "import re\n",
        "import spacy\n",
        "from spacy.lang.en.stop_words import STOP_WORDS\n",
        "import string\n",
        "import matplotlib.pyplot as plt\n",
        "#from langdetect import detect"
      ]
    },
    {
      "cell_type": "markdown",
      "metadata": {
        "id": "-hPE97whMRqX"
      },
      "source": [
        "#Extracting Text from json"
      ]
    },
    {
      "cell_type": "code",
      "execution_count": null,
      "metadata": {
        "id": "IuE3GpxL8Yxk"
      },
      "outputs": [],
      "source": [
        "%%time\n",
        "!unzip \"/content/drive/MyDrive/DataSets/pdf_json.zip\" -d \"/content/pdf_json\""
      ]
    },
    {
      "cell_type": "code",
      "execution_count": null,
      "metadata": {
        "id": "QZWcYxpuyc9R"
      },
      "outputs": [],
      "source": [
        "def extract_text(filename):\n",
        "    '''\n",
        "    Extract the text from the file name (json file) and\n",
        "    index the content from paper_id, title, abstract and body_text fields\n",
        "    Retuns - text of title, abstract and bodt_text\n",
        "    '''\n",
        "\n",
        "    file = open(filename)\n",
        "    body_text = \"\"\n",
        "    abstract = \"\"\n",
        "    title = \"\"\n",
        "    paper_id = \"\"\n",
        "\n",
        "    paper_content = json.load(file)\n",
        "\n",
        "    #get the paper_id\n",
        "    if 'paper_id' in paper_content:\n",
        "        paper_id = paper_content['paper_id']\n",
        "        \n",
        "    #get the title, if available\n",
        "    if 'title' in paper_content['metadata']:\n",
        "        title = paper_content['metadata']['title']\n",
        "    #get abstract.text, if available\n",
        "    if 'abstract' in paper_content:\n",
        "        for abs in paper_content['abstract']:\n",
        "            abstract = abstract + abs['text']\n",
        "    if 'body_text' in paper_content:\n",
        "        for bt in paper_content['body_text']:\n",
        "            body_text = body_text + bt['text']\n",
        "\n",
        "\n",
        "   \n",
        "    return (title + ' ' + abstract + ' ' + body_text + ' ').lower()\n"
      ]
    },
    {
      "cell_type": "code",
      "execution_count": null,
      "metadata": {
        "colab": {
          "base_uri": "https://localhost:8080/"
        },
        "id": "WdRNMmg9O4PI",
        "outputId": "36a28b8f-34e2-42f7-a973-aa9dbfdabaf5"
      },
      "outputs": [
        {
          "output_type": "stream",
          "name": "stdout",
          "text": [
            "total number of documents is :  56529\n"
          ]
        }
      ],
      "source": [
        "N = len(os.listdir(\"/content/pdf_json/pdf_json\"))\n",
        "print(\"total number of documents is : \", N)"
      ]
    },
    {
      "cell_type": "code",
      "execution_count": null,
      "metadata": {
        "id": "Td9Ub3GTG2-b"
      },
      "outputs": [],
      "source": [
        "file_list = os.listdir(\"/content/pdf_json/pdf_json\")"
      ]
    },
    {
      "cell_type": "code",
      "execution_count": null,
      "metadata": {
        "id": "_v6C8SZVC3Ti"
      },
      "outputs": [],
      "source": [
        "#Reading json files in different batches it will save the data into my drive\n",
        "def read_json_files(start, size):\n",
        "    corpus = str()\n",
        "    if (start+size)>N:\n",
        "        end = N\n",
        "    else:\n",
        "        end=(start + size)\n",
        "    for file in file_list[start:end]:\n",
        "        if file.endswith(\".json\"):\n",
        "            text=extract_text(os.path.join(\"/content/pdf_json/pdf_json\", file))\n",
        "            text=text.replace(\"\\n\",\" \")\n",
        "            try:\n",
        "                lang = detect(text)\n",
        "            except:\n",
        "                lang = 'other'\n",
        "            if lang == 'en':\n",
        "                corpus += ('\\n' + text)\n",
        "    with open('/content/drive/MyDrive/DataSets/pdf_json2/corpus.txt', 'a') as f:\n",
        "        f.write(corpus)\n",
        "    print('done upto ', end)\n",
        "    return"
      ]
    },
    {
      "cell_type": "code",
      "execution_count": null,
      "metadata": {
        "colab": {
          "base_uri": "https://localhost:8080/"
        },
        "id": "4UsD7Q4SAmAL",
        "outputId": "b68fcee6-e20a-4c05-8ee9-97ec4424a071"
      },
      "outputs": [
        {
          "output_type": "stream",
          "name": "stdout",
          "text": [
            "start at  0\n",
            "done upto  2000\n",
            "done upto  4000\n",
            "done upto  6000\n",
            "done upto  8000\n",
            "done upto  10000\n",
            "done upto  12000\n",
            "done upto  14000\n",
            "done upto  16000\n",
            "done upto  18000\n",
            "done upto  20000\n",
            "done upto  22000\n",
            "done upto  24000\n",
            "done upto  26000\n",
            "done upto  28000\n",
            "done upto  30000\n",
            "done upto  32000\n",
            "done upto  34000\n",
            "done upto  36000\n",
            "done upto  38000\n",
            "done upto  40000\n",
            "done upto  42000\n",
            "done upto  44000\n",
            "done upto  46000\n",
            "done upto  48000\n",
            "done upto  50000\n",
            "done upto  52000\n",
            "done upto  54000\n",
            "done upto  56000\n",
            "done upto  56529\n"
          ]
        }
      ],
      "source": [
        "print('start at ' , 0)\n",
        "for i in range(0, N, 2000):\n",
        "    start = i\n",
        "    read_json_files(start, 2000)"
      ]
    },
    {
      "cell_type": "markdown",
      "metadata": {
        "id": "5iSu-bFmMJT_"
      },
      "source": [
        "#Reading Extracted text"
      ]
    },
    {
      "cell_type": "markdown",
      "metadata": {
        "id": "lRs7ptAZAeoQ"
      },
      "source": [
        "Reading the saved extracted text. this will read as a list. Each element of the list is a extracted text of each json."
      ]
    },
    {
      "cell_type": "code",
      "execution_count": null,
      "metadata": {
        "id": "pqsQZpCJEmuU"
      },
      "outputs": [],
      "source": [
        "#corpus = '\\n'.join(corpus_list)\n",
        "corpus_file = open(\"/content/drive/MyDrive/DataSets/pdf_json2/corpus.txt\", 'r')\n",
        "corpus_list = corpus_file.readlines()\n",
        "corpus_list = corpus_list[1:]\n",
        "corpus_file.close()"
      ]
    },
    {
      "cell_type": "code",
      "execution_count": null,
      "metadata": {
        "colab": {
          "base_uri": "https://localhost:8080/"
        },
        "id": "hJjZ-hNkfWr8",
        "outputId": "4d7582a1-548d-473e-ab31-44181c5a9a76"
      },
      "outputs": [
        {
          "output_type": "stream",
          "name": "stdout",
          "text": [
            "total number of english documents are 54849\n"
          ]
        }
      ],
      "source": [
        "print(f'total number of english documents are {len(corpus_list)}')"
      ]
    },
    {
      "cell_type": "markdown",
      "metadata": {
        "id": "TjnGERrtBBBW"
      },
      "source": [
        "This function will divide the corpus in k batches. So that we work with the data separately. "
      ]
    },
    {
      "cell_type": "code",
      "execution_count": null,
      "metadata": {
        "id": "uxyjDjebhh0X"
      },
      "outputs": [],
      "source": [
        "def batch_divide(cor_list, k):\n",
        "    '''\n",
        "    Divide the whole copus into k batches so that Computattion will be easier.\n",
        "    '''\n",
        "    n = len(cor_list)\n",
        "    m = int(n/k)\n",
        "    batch_number = 1\n",
        "    start = 0\n",
        "    for i in range(k):\n",
        "        if i ==k-1:\n",
        "            subcor = '\\n'.join(cor_list[start:])\n",
        "        else:\n",
        "            subcor = '\\n'.join(cor_list[start:start+m])\n",
        "            start += m\n",
        "        batch_name = 'batch_' + str(batch_number)\n",
        "        path = '/content/drive/MyDrive/DataSets/pdf_json2/'+batch_name+'.txt'\n",
        "        with open(path, 'w') as f:\n",
        "            f.write(subcor)\n",
        "        print(f'creating {batch_name} done.')\n",
        "        batch_number +=1\n",
        "    return"
      ]
    },
    {
      "cell_type": "code",
      "execution_count": null,
      "metadata": {
        "colab": {
          "base_uri": "https://localhost:8080/"
        },
        "id": "7OQYgPk6i8Iz",
        "outputId": "28b75a73-1486-497f-f6cc-15ed1a804632"
      },
      "outputs": [
        {
          "output_type": "stream",
          "name": "stdout",
          "text": [
            "creating batch_1 done.\n",
            "creating batch_2 done.\n",
            "creating batch_3 done.\n",
            "creating batch_4 done.\n",
            "creating batch_5 done.\n",
            "creating batch_6 done.\n",
            "creating batch_7 done.\n",
            "creating batch_8 done.\n",
            "creating batch_9 done.\n"
          ]
        }
      ],
      "source": [
        "batch_divide(corpus_list, 9)"
      ]
    },
    {
      "cell_type": "markdown",
      "metadata": {
        "id": "spdEo6czAgbM"
      },
      "source": [
        "#Preprocessing"
      ]
    },
    {
      "cell_type": "code",
      "execution_count": null,
      "metadata": {
        "id": "7pN7_LYZJ5DY"
      },
      "outputs": [],
      "source": [
        "def remove_links(text):\n",
        "    '''\n",
        "    This will remove all links with https or http\n",
        "    '''\n",
        "    clean_text = re.sub('https?\\S+', ' ', text)\n",
        "    return clean_text\n",
        "\n",
        "def remove_citation(text):\n",
        "    \"\"\"\n",
        "    This will remove the citations from the string. eg.- [2] or (2,3)\n",
        "    \"\"\"\n",
        "    clean_text = re.sub('(\\(|\\[)[0-9, ]+(\\]|\\))', ' ', text)\n",
        "    return clean_text\n",
        "\n",
        "def remove_reference_to_table(text):\n",
        "    '''\n",
        "    To remove any kind of reference this will check if there are any \n",
        "    number in bracket if any that will be removed. e.g.- (see chart 3)\n",
        "    '''\n",
        "    clean_text = re.sub('(?i)(\\(|\\[)[a-z ]+[0-9]+[a-z]?(\\]|\\))', ' ', text)\n",
        "    return clean_text\n",
        "\n",
        "def remove_mail_links(text):\n",
        "    '''\n",
        "    To remove mail ids.\n",
        "    eg. arnabsen@gmail.com, or arnabsen@cmi.ac.in\n",
        "    '''\n",
        "    clean_text = re.sub('[a-zA-z0-9\\.\\_]+[@]+\\S+', ' ', text)\n",
        "    return clean_text\n",
        "\n",
        "def remove_single_word_variable(text):\n",
        "    '''\n",
        "    To remove any kind of single words or variables\n",
        "    '''\n",
        "    clean_text = re.sub('\\s.\\s', ' ', text)\n",
        "    return clean_text\n",
        "\n",
        "def remove_nextline(text):\n",
        "    '''\n",
        "    to remove \\n nextline command\n",
        "    '''\n",
        "    clean_text = re.sub('\\n', ' ', text)\n",
        "    return clean_text\n",
        "\n",
        "def remove_multiple_blank_spaces(text):\n",
        "    '''\n",
        "    to remove any multiple blank spaces to a single space\n",
        "    '''\n",
        "    clean_text = re.sub(' +', ' ', text)\n",
        "    return clean_text\n",
        "\n",
        "def remove_punctuations(text):\n",
        "    '''\n",
        "    To remove punctuations\n",
        "    '''\n",
        "    clean_text = re.sub(r'''[\\[\\]\\(\\)\\{\\}[`~!#$%^&*_.!?'\",:;><=*\\\\\\/\\+\\-\\@]''', ' ', text)\n",
        "    return clean_text\n",
        "\n",
        "def remove_digits(text):\n",
        "    '''\n",
        "    To remove any unnecessary digits\n",
        "    '''\n",
        "    clean_text = re.sub(r'[+-]?\\d+(?:\\.\\d+)?', ' ', text)\n",
        "    return clean_text\n",
        "\n",
        "def remove_non_ASCII(text):\n",
        "    '''\n",
        "    This regex will remove non ASCII characters like degree sign, greek alphabets.\n",
        "    '''\n",
        "    clean_text = re.sub(r'[^\\x00-\\x7F]+',' ', text)\n",
        "    return clean_text\n",
        "\n",
        "def remove_contraction(text):\n",
        "    '''\n",
        "    This will remove the contractions in a text like: I'm to I am, isn't to is not. \n",
        "    '''\n",
        "    groups = {\"'m\": \" am\", \"n't\":\" not\", \"'s\": \" is\", \"'d\":\" would\", \"'ll\": \" will\", \"'re\":\" are\",\"let's\":\"let us\"}\n",
        "    for key in groups.keys():\n",
        "        text = text.replace(key, groups[key])\n",
        "    return text"
      ]
    },
    {
      "cell_type": "code",
      "execution_count": null,
      "metadata": {
        "colab": {
          "base_uri": "https://localhost:8080/",
          "height": 35
        },
        "id": "jJCs6ivbxBUh",
        "outputId": "df60bcbb-5c6a-4c62-b1e9-59c8a69f291d"
      },
      "outputs": [
        {
          "output_type": "execute_result",
          "data": {
            "text/plain": [
              "'akj;fk jfjk[ c]'"
            ],
            "application/vnd.google.colaboratory.intrinsic+json": {
              "type": "string"
            }
          },
          "metadata": {},
          "execution_count": 16
        }
      ],
      "source": [
        "s = 'akj;fk∝jfjk[°c]'\n",
        "remove_non_ASCII(s)"
      ]
    },
    {
      "cell_type": "code",
      "execution_count": null,
      "metadata": {
        "colab": {
          "base_uri": "https://localhost:8080/"
        },
        "id": "yXK7T6f6nlv_",
        "outputId": "d6c19e5f-43b2-412c-e9d5-e0d3b8899a59"
      },
      "outputs": [
        {
          "output_type": "stream",
          "name": "stdout",
          "text": [
            "preprocessing done in batch number:  1\n",
            "time taken: 55.19 seconds\n",
            "preprocessing done in batch number:  2\n",
            "time taken: 50.08 seconds\n",
            "preprocessing done in batch number:  3\n",
            "time taken: 50.68 seconds\n",
            "preprocessing done in batch number:  4\n",
            "time taken: 51.39 seconds\n",
            "preprocessing done in batch number:  5\n",
            "time taken: 51.57 seconds\n",
            "preprocessing done in batch number:  6\n",
            "time taken: 53.58 seconds\n",
            "preprocessing done in batch number:  7\n",
            "time taken: 52.55 seconds\n",
            "preprocessing done in batch number:  8\n",
            "time taken: 50.84 seconds\n",
            "preprocessing done in batch number:  9\n",
            "time taken: 50.69 seconds\n"
          ]
        }
      ],
      "source": [
        "import time\n",
        "def preprocessing(batch_number):\n",
        "    '''\n",
        "    All regex pattern match and replace will be here.\n",
        "    '''\n",
        "    start_time = time.time()\n",
        "    input_path = '/content/drive/MyDrive/DataSets/pdf_json2/batch_' + str(batch_number)+'.txt'\n",
        "    output_path = '/content/drive/MyDrive/DataSets/pdf_json2/clean_batch_' + str(batch_number)+'.txt'\n",
        "    with open(input_path, 'r') as f:\n",
        "        corpus = f.read()\n",
        "    cleancorpus = remove_links(corpus)\n",
        "    cleancorpus = remove_contraction(cleancorpus)\n",
        "    cleancorpus = remove_citation(cleancorpus)\n",
        "    cleancorpus = remove_non_ASCII(cleancorpus)\n",
        "    cleancorpus = remove_mail_links(cleancorpus)\n",
        "    cleancorpus = remove_reference_to_table(cleancorpus)\n",
        "    cleancorpus = remove_punctuations(cleancorpus)\n",
        "    \n",
        "    cleancorpus = remove_digits(cleancorpus)\n",
        "    cleancorpus = remove_single_word_variable(cleancorpus)\n",
        "    \n",
        "    #cleancorpus = remove_nextline(cleancorpus)\n",
        "    cleancorpus = remove_multiple_blank_spaces(cleancorpus)\n",
        "    with open(output_path, 'w') as f:\n",
        "        f.write(cleancorpus)\n",
        "    print('preprocessing done in batch number: ', batch_number)\n",
        "    end_time = time.time()\n",
        "    print(f\"time taken: {round((end_time - start_time),2)} seconds\")\n",
        "    return\n",
        "for i in range(1,10):\n",
        "    preprocessing(i)"
      ]
    },
    {
      "cell_type": "markdown",
      "metadata": {
        "id": "1Fpygr1oAwS-"
      },
      "source": [
        "#delete stopwords"
      ]
    },
    {
      "cell_type": "markdown",
      "metadata": {
        "id": "7yop1-wbDHn8"
      },
      "source": [
        "using spacy Stopwords it has 326 many stop words"
      ]
    },
    {
      "cell_type": "code",
      "execution_count": null,
      "metadata": {
        "colab": {
          "base_uri": "https://localhost:8080/"
        },
        "id": "vIRS9LmZB_KQ",
        "outputId": "8d8e781a-81f6-48d9-c217-d57696d91d87"
      },
      "outputs": [
        {
          "output_type": "stream",
          "name": "stdout",
          "text": [
            "length of the stop words set is :  326\n",
            "stopwords are : {'because', \"'re\", 'every', 'any', 'used', 'sometime', 'less', 'over', 'another', 'moreover', 'whereas', 're', 'against', 'sometimes', 'again', 'four', 'to', '’ll', 'almost', 'towards', 'just', 'hereafter', 'together', 'never', '‘m', 'nobody', 'its', 'hereby', 'a', 'get', 'third', 'least', 'among', \"'s\", 'ourselves', 'each', 'meanwhile', '’re', 'beforehand', 'about', 'yours', 'also', 'whoever', 'indeed', \"'d\", 'keep', 'very', 'noone', 'myself', 'take', 'still', 'nor', 'whole', 'above', 'whereby', 'unless', 'themselves', 'i', 'enough', 'eight', '’m', 'thereafter', 'move', 'using', 'herein', 'might', 'everything', 'with', 'himself', '’d', 'how', 'per', 'show', 'your', 'where', 'yourselves', '‘re', 'further', 'one', 'everywhere', 'few', 'them', 'this', 'as', 'anything', 'due', 'through', 'much', 'some', 'below', 'down', '’ve', 'whither', 'up', 'even', 'fifteen', 'seems', 'both', 'twenty', 'her', 'into', 'seeming', 'well', 'say', 'during', 'around', 'done', 'that', 'we', 'it', 'whatever', 'our', 'everyone', 'behind', 'on', 'onto', 'were', 'serious', 'either', 'else', 'herself', 'always', 'there', 'became', 'anyhow', 'n‘t', 'own', 'do', 'full', 'n’t', 'formerly', 'various', 'between', 'regarding', 'their', 'made', 'no', 'seemed', 'forty', 'last', 'perhaps', 'sixty', 'thence', 'first', 'really', 'off', 'yet', 'has', 'be', 'eleven', 'make', 'though', 'cannot', 'anyway', 'fifty', 'us', 'him', 'however', 'becoming', 'those', 'thru', 'wherein', 'empty', 'which', 'then', '‘ve', 'hereupon', 'side', 'under', 'seem', 'whose', 'at', 'anyone', 'ca', 'than', 'thereby', 'all', 'alone', 'me', 'but', \"'m\", 'none', 'becomes', 'have', 'you', 'latterly', 'already', 'two', 'whereafter', 'he', 'ten', 'toward', 'and', 'thus', 'after', 'become', 'afterwards', 'next', 'doing', 'within', 'is', 'part', \"'ll\", 'why', 'otherwise', 'now', 'had', 'someone', 'will', 'name', 'call', 'does', 'may', 'therein', 'hers', 'more', 'amount', 'could', 'when', 'thereupon', 'via', '’s', 'give', 'she', 'did', 'although', 'five', 'they', 'rather', 'an', 'been', 'except', 'his', 'whence', 'something', 'quite', 'other', 'am', 'these', 'nowhere', 'many', 'throughout', 'beside', 'are', 'nevertheless', 'wherever', 'can', 'others', 'nine', 'so', 'mostly', 'or', 'hence', 'what', 'bottom', 'upon', 'being', 'here', 'should', 'yourself', 'of', 'while', 'beyond', 'whether', 'would', 'neither', 'amongst', 'must', 'too', 'somewhere', 'front', 'back', \"n't\", 'please', 'whom', 'hundred', 'latter', 'see', 'in', '‘d', 'besides', 'until', 'by', 'six', 'who', '‘ll', 'mine', 'if', \"'ve\", 'anywhere', 'top', 'ever', 'former', 'put', 'from', 'across', 'since', 'most', 'the', 'often', 'was', 'same', 'not', 'along', 'before', 'namely', '‘s', 'elsewhere', 'such', 'several', 'go', 'nothing', 'without', 'whereupon', 'once', 'somehow', 'my', 'twelve', 'whenever', 'three', 'therefore', 'only', 'itself', 'out', 'ours', 'for'}\n"
          ]
        }
      ],
      "source": [
        "stopwords = set(STOP_WORDS)\n",
        "print('length of the stop words set is : ', len(stopwords))\n",
        "print(f'stopwords are : {stopwords}')"
      ]
    },
    {
      "cell_type": "code",
      "execution_count": null,
      "metadata": {
        "colab": {
          "base_uri": "https://localhost:8080/"
        },
        "id": "e0IAXx3qONo9",
        "outputId": "e4935b31-8f91-42f0-b4d3-20f3dcdb6d56"
      },
      "outputs": [
        {
          "output_type": "stream",
          "name": "stdout",
          "text": [
            "stop word removing done in batch number :  1\n",
            "time taken:  6.79 Seconds\n",
            "stop word removing done in batch number :  2\n",
            "time taken:  7.47 Seconds\n",
            "stop word removing done in batch number :  3\n",
            "time taken:  6.52 Seconds\n",
            "stop word removing done in batch number :  4\n",
            "time taken:  6.99 Seconds\n",
            "stop word removing done in batch number :  5\n",
            "time taken:  7.49 Seconds\n",
            "stop word removing done in batch number :  6\n",
            "time taken:  6.67 Seconds\n",
            "stop word removing done in batch number :  7\n",
            "time taken:  7.53 Seconds\n",
            "stop word removing done in batch number :  8\n",
            "time taken:  6.82 Seconds\n",
            "stop word removing done in batch number :  9\n",
            "time taken:  7.59 Seconds\n"
          ]
        }
      ],
      "source": [
        "def delete_stopwords(batch_number):\n",
        "    '''\n",
        "    This function will read from my drive and remove the stopwords \n",
        "    and then it will save the corpus to my drive.\n",
        "    '''\n",
        "    start_time = time.time()\n",
        "    input_path = '/content/drive/MyDrive/DataSets/pdf_json2/clean_batch_' + str(batch_number)+'.txt'\n",
        "    output_path = '/content/drive/MyDrive/DataSets/pdf_json2/clean_batch_ws_' + str(batch_number)+'.txt'\n",
        "    with open(input_path, 'r') as f:\n",
        "        corpus = f.read()\n",
        "    corpus = corpus.split(' ')\n",
        "    corpus_ws = [word for word in corpus if not word in stopwords]\n",
        "    corpus = ' '.join(corpus_ws)\n",
        "    with open(output_path, 'w') as f:\n",
        "        f.write(corpus)\n",
        "    print('stop word removing done in batch number : ', batch_number)\n",
        "    end_time = time.time()\n",
        "    print(\"time taken: \", round((end_time - start_time),2), 'Seconds')\n",
        "    return\n",
        "\n",
        "for i in range(1,10):\n",
        "    delete_stopwords(i)"
      ]
    },
    {
      "cell_type": "markdown",
      "metadata": {
        "id": "UpzLQn3SXj4X"
      },
      "source": [
        "#lemmatization"
      ]
    },
    {
      "cell_type": "code",
      "execution_count": null,
      "metadata": {
        "colab": {
          "base_uri": "https://localhost:8080/"
        },
        "id": "R0lj_PKrEmeK",
        "outputId": "f9f51422-aaf8-43cc-800d-c184be334548"
      },
      "outputs": [
        {
          "output_type": "stream",
          "name": "stdout",
          "text": [
            "[nltk_data] Downloading package punkt to /root/nltk_data...\n",
            "[nltk_data]   Unzipping tokenizers/punkt.zip.\n",
            "[nltk_data] Downloading package averaged_perceptron_tagger to\n",
            "[nltk_data]     /root/nltk_data...\n",
            "[nltk_data]   Unzipping taggers/averaged_perceptron_tagger.zip.\n",
            "[nltk_data] Downloading package wordnet to /root/nltk_data...\n",
            "[nltk_data]   Unzipping corpora/wordnet.zip.\n",
            "[nltk_data] Downloading package omw-1.4 to /root/nltk_data...\n",
            "[nltk_data]   Unzipping corpora/omw-1.4.zip.\n"
          ]
        },
        {
          "output_type": "execute_result",
          "data": {
            "text/plain": [
              "True"
            ]
          },
          "metadata": {},
          "execution_count": 20
        }
      ],
      "source": [
        "import nltk\n",
        "nltk.download('punkt')\n",
        "nltk.download('averaged_perceptron_tagger')\n",
        "nltk.download('wordnet')\n",
        "nltk.download('omw-1.4')"
      ]
    },
    {
      "cell_type": "code",
      "execution_count": null,
      "metadata": {
        "id": "Hr0c-eZBIkwA"
      },
      "outputs": [],
      "source": [
        "import time\n",
        "from textblob import TextBlob, Word\n",
        "def lemmatize_with_postag(sentence):\n",
        "    sent = TextBlob(sentence)\n",
        "    tag_dict = {\"J\": 'a', \n",
        "                \"N\": 'n', \n",
        "                \"V\": 'v', \n",
        "                \"R\": 'r'}\n",
        "    words_and_tags = [(w, tag_dict.get(pos[0], 'n')) for w, pos in sent.tags]    \n",
        "    lemmatized_list = [wd.lemmatize(tag) for wd, tag in words_and_tags]\n",
        "    return \" \".join(lemmatized_list)\n",
        "\n",
        "def lemmatization_batch(batch_number):\n",
        "    start_time = time.time()\n",
        "    input_path = '/content/drive/MyDrive/DataSets/pdf_json2/clean_batch_ws_' + str(batch_number)+'.txt'\n",
        "    output_path = '/content/drive/MyDrive/DataSets/pdf_json2/lemmatized_batch_' + str(batch_number) +'.txt'\n",
        "    with open(input_path, 'r') as f:\n",
        "        batch = f.read()\n",
        "    processed = []\n",
        "    batch = batch.split('\\n')\n",
        "    for sentence in batch:\n",
        "        processed.append(lemmatize_with_postag(sentence))\n",
        "    text=\"\\n\".join(processed)\n",
        "    \n",
        "    cleancorpus = remove_digits(text)\n",
        "    cleancorpus = remove_single_word_variable(cleancorpus)\n",
        "    \n",
        "    #cleancorpus = remove_nextline(cleancorpus)\n",
        "    cleancorpus = remove_multiple_blank_spaces(cleancorpus)\n",
        "    with open(output_path, 'w') as f:\n",
        "        f.write(cleancorpus)\n",
        "    end_time = time.time()\n",
        "    print('lemmatization done in batch number: ', batch_number)\n",
        "    print(\"time taken \", (end_time - start_time), 'seconds')\n",
        "    return \n",
        "\n"
      ]
    },
    {
      "cell_type": "code",
      "execution_count": null,
      "metadata": {
        "colab": {
          "base_uri": "https://localhost:8080/"
        },
        "id": "EGu4QQVuEYC4",
        "outputId": "87857925-bf63-4240-d99b-9a3f1a24ca9b"
      },
      "outputs": [
        {
          "output_type": "stream",
          "name": "stdout",
          "text": [
            "lemmatization done in batch number:  1\n",
            "time taken  1156.4271309375763 seconds\n",
            "lemmatization done in batch number:  2\n",
            "time taken  1136.4470965862274 seconds\n"
          ]
        }
      ],
      "source": [
        "for i in range(1,3):\n",
        "    lemmatization_batch(i)"
      ]
    },
    {
      "cell_type": "code",
      "execution_count": null,
      "metadata": {
        "colab": {
          "base_uri": "https://localhost:8080/"
        },
        "id": "cfNLWSBN2Ubi",
        "outputId": "40f6353f-10b0-42ad-b117-3a994a5ef556"
      },
      "outputs": [
        {
          "output_type": "stream",
          "name": "stdout",
          "text": [
            "lemmatization done in batch number:  3\n",
            "time taken  1158.8046135902405 seconds\n",
            "lemmatization done in batch number:  4\n",
            "time taken  1132.6581749916077 seconds\n"
          ]
        }
      ],
      "source": [
        "lemmatization_batch(3)\n",
        "lemmatization_batch(4)"
      ]
    },
    {
      "cell_type": "code",
      "execution_count": null,
      "metadata": {
        "colab": {
          "base_uri": "https://localhost:8080/"
        },
        "id": "Rh_fYAL7qYFw",
        "outputId": "701d0267-8bd7-4b70-8035-624f87f74afb"
      },
      "outputs": [
        {
          "output_type": "stream",
          "name": "stdout",
          "text": [
            "lemmatization done in batch number:  5\n",
            "time taken  1157.9490559101105 seconds\n"
          ]
        }
      ],
      "source": [
        "lemmatization_batch(5)"
      ]
    },
    {
      "cell_type": "code",
      "execution_count": null,
      "metadata": {
        "colab": {
          "base_uri": "https://localhost:8080/"
        },
        "id": "Da3MbnYHKD5-",
        "outputId": "1260c97b-a14f-45f3-874b-dcb800850414"
      },
      "outputs": [
        {
          "output_type": "stream",
          "name": "stdout",
          "text": [
            "lemmatization done in batch number:  6\n",
            "time taken  1199.4704630374908 seconds\n"
          ]
        }
      ],
      "source": [
        "lemmatization_batch(6)"
      ]
    },
    {
      "cell_type": "code",
      "execution_count": null,
      "metadata": {
        "colab": {
          "base_uri": "https://localhost:8080/"
        },
        "id": "QvmkCZtBPco-",
        "outputId": "af056907-fe09-434c-94e6-4e0f90d76dea"
      },
      "outputs": [
        {
          "output_type": "stream",
          "name": "stdout",
          "text": [
            "lemmatization done in batch number:  7\n",
            "time taken  1211.6434762477875 seconds\n"
          ]
        }
      ],
      "source": [
        "lemmatization_batch(7)"
      ]
    },
    {
      "cell_type": "code",
      "execution_count": null,
      "metadata": {
        "colab": {
          "base_uri": "https://localhost:8080/"
        },
        "id": "AA5PkDUESYyf",
        "outputId": "1df74883-492e-4712-ec64-ab647c4d8ebb"
      },
      "outputs": [
        {
          "output_type": "stream",
          "name": "stdout",
          "text": [
            "lemmatization done in batch number:  8\n",
            "time taken  1164.1853919029236 seconds\n"
          ]
        }
      ],
      "source": [
        "lemmatization_batch(8)"
      ]
    },
    {
      "cell_type": "code",
      "execution_count": null,
      "metadata": {
        "colab": {
          "base_uri": "https://localhost:8080/"
        },
        "id": "FyTa3VxParab",
        "outputId": "7f640633-a760-48eb-bd5d-77a6a18e1f0d"
      },
      "outputs": [
        {
          "output_type": "stream",
          "name": "stdout",
          "text": [
            "lemmatization done in batch number:  9\n",
            "time taken  1141.936476945877 seconds\n"
          ]
        }
      ],
      "source": [
        "lemmatization_batch(9)"
      ]
    },
    {
      "cell_type": "markdown",
      "metadata": {
        "id": "9esiCB3XVBlR"
      },
      "source": [
        "#Calculating frequency of the words"
      ]
    },
    {
      "cell_type": "code",
      "execution_count": null,
      "metadata": {
        "id": "PIf2PsZEh_m1"
      },
      "outputs": [],
      "source": [
        "freq_dict = dict()"
      ]
    },
    {
      "cell_type": "code",
      "execution_count": null,
      "metadata": {
        "id": "X1wIGmtFJgDD"
      },
      "outputs": [],
      "source": [
        "from nltk.tokenize import word_tokenize\n",
        "import time\n",
        "def frequency_calc(n):\n",
        "    word_count = list()\n",
        "    vocab_count = list()\n",
        "    count = 0\n",
        "    for i in range(1,n+1):\n",
        "        start_time = time.time()\n",
        "        corpus_path = '/content/drive/MyDrive/DataSets/pdf_json2/lemmatized_batch_' + str(i) +'.txt'\n",
        "        with open(corpus_path, 'r') as f:\n",
        "            corpus = f.readlines()\n",
        "        for doc in corpus:\n",
        "            text_tokens = doc.split(' ')\n",
        "            for word in text_tokens:\n",
        "                if word != '\\n':\n",
        "                    count += 1\n",
        "                    if str(word) in freq_dict.keys():\n",
        "                        freq_dict[str(word)] += 1\n",
        "                    else:\n",
        "                        freq_dict[str(word)] = 1\n",
        "                    if count % 10000 == 0:\n",
        "                        word_count.append(count)\n",
        "                        vocab_count.append(len(freq_dict.keys()))\n",
        "        end_time = time.time()\n",
        "        print(f'total time taken for batch {i} is {end_time-start_time} seconds')\n",
        "    word_count.append(count)\n",
        "    vocab_count.append(len(freq_dict.keys()))\n",
        "    \n",
        "    return freq_dict, word_count, vocab_count"
      ]
    },
    {
      "cell_type": "code",
      "execution_count": null,
      "metadata": {
        "colab": {
          "base_uri": "https://localhost:8080/"
        },
        "id": "CkJnamEHiHer",
        "outputId": "7fd730cb-8a17-4783-e1ae-51270c78b380"
      },
      "outputs": [
        {
          "output_type": "stream",
          "name": "stdout",
          "text": [
            "total time taken for batch 1 is 12.105144739151001 seconds\n",
            "total time taken for batch 2 is 11.813694715499878 seconds\n",
            "total time taken for batch 3 is 12.04419231414795 seconds\n",
            "total time taken for batch 4 is 11.685883283615112 seconds\n",
            "total time taken for batch 5 is 11.777775049209595 seconds\n",
            "total time taken for batch 6 is 12.017798900604248 seconds\n",
            "total time taken for batch 7 is 12.189282417297363 seconds\n",
            "total time taken for batch 8 is 12.387763738632202 seconds\n",
            "total time taken for batch 9 is 12.203110933303833 seconds\n"
          ]
        }
      ],
      "source": [
        "freq_dict, word_count, vocab_count = frequency_calc(9)"
      ]
    },
    {
      "cell_type": "code",
      "execution_count": null,
      "metadata": {
        "id": "3qbi5RucEfGw"
      },
      "outputs": [],
      "source": [
        "sorted_freq = {k: v for k, v in sorted(freq_dict.items(), key=lambda item: item[1], reverse=True)}"
      ]
    },
    {
      "cell_type": "code",
      "execution_count": null,
      "metadata": {
        "id": "sn2OZQbWIh7a"
      },
      "outputs": [],
      "source": [
        "rank = 1\n",
        "words = list()\n",
        "for key in sorted_freq.keys():\n",
        "    temp = [rank, key, sorted_freq[key], rank*sorted_freq[key]]\n",
        "    rank += 1\n",
        "    words.append(temp)\n",
        "df = pd.DataFrame(words)"
      ]
    },
    {
      "cell_type": "code",
      "execution_count": null,
      "metadata": {
        "id": "6qoFaKtZVakL",
        "colab": {
          "base_uri": "https://localhost:8080/",
          "height": 455
        },
        "outputId": "254ba48b-5444-4540-e7d2-1b4684479d31"
      },
      "outputs": [
        {
          "output_type": "execute_result",
          "data": {
            "text/plain": [
              "                    word  frequency  rank*freq\n",
              "rank                                          \n",
              "1                patient     900582     900582\n",
              "2                   cell     813280    1626560\n",
              "3                  study     705481    2116443\n",
              "4                     al     580996    2323984\n",
              "5                     et     580000    2900000\n",
              "...                  ...        ...        ...\n",
              "762681              xcep          1     762681\n",
              "762682           tionnet          1     762682\n",
              "762683     cormobilities          1     762683\n",
              "762684         progation          1     762684\n",
              "762685  preprintdecision          1     762685\n",
              "\n",
              "[762685 rows x 3 columns]"
            ],
            "text/html": [
              "\n",
              "  <div id=\"df-400c11c0-5886-4b21-bfb7-5fc94bea3e07\">\n",
              "    <div class=\"colab-df-container\">\n",
              "      <div>\n",
              "<style scoped>\n",
              "    .dataframe tbody tr th:only-of-type {\n",
              "        vertical-align: middle;\n",
              "    }\n",
              "\n",
              "    .dataframe tbody tr th {\n",
              "        vertical-align: top;\n",
              "    }\n",
              "\n",
              "    .dataframe thead th {\n",
              "        text-align: right;\n",
              "    }\n",
              "</style>\n",
              "<table border=\"1\" class=\"dataframe\">\n",
              "  <thead>\n",
              "    <tr style=\"text-align: right;\">\n",
              "      <th></th>\n",
              "      <th>word</th>\n",
              "      <th>frequency</th>\n",
              "      <th>rank*freq</th>\n",
              "    </tr>\n",
              "    <tr>\n",
              "      <th>rank</th>\n",
              "      <th></th>\n",
              "      <th></th>\n",
              "      <th></th>\n",
              "    </tr>\n",
              "  </thead>\n",
              "  <tbody>\n",
              "    <tr>\n",
              "      <th>1</th>\n",
              "      <td>patient</td>\n",
              "      <td>900582</td>\n",
              "      <td>900582</td>\n",
              "    </tr>\n",
              "    <tr>\n",
              "      <th>2</th>\n",
              "      <td>cell</td>\n",
              "      <td>813280</td>\n",
              "      <td>1626560</td>\n",
              "    </tr>\n",
              "    <tr>\n",
              "      <th>3</th>\n",
              "      <td>study</td>\n",
              "      <td>705481</td>\n",
              "      <td>2116443</td>\n",
              "    </tr>\n",
              "    <tr>\n",
              "      <th>4</th>\n",
              "      <td>al</td>\n",
              "      <td>580996</td>\n",
              "      <td>2323984</td>\n",
              "    </tr>\n",
              "    <tr>\n",
              "      <th>5</th>\n",
              "      <td>et</td>\n",
              "      <td>580000</td>\n",
              "      <td>2900000</td>\n",
              "    </tr>\n",
              "    <tr>\n",
              "      <th>...</th>\n",
              "      <td>...</td>\n",
              "      <td>...</td>\n",
              "      <td>...</td>\n",
              "    </tr>\n",
              "    <tr>\n",
              "      <th>762681</th>\n",
              "      <td>xcep</td>\n",
              "      <td>1</td>\n",
              "      <td>762681</td>\n",
              "    </tr>\n",
              "    <tr>\n",
              "      <th>762682</th>\n",
              "      <td>tionnet</td>\n",
              "      <td>1</td>\n",
              "      <td>762682</td>\n",
              "    </tr>\n",
              "    <tr>\n",
              "      <th>762683</th>\n",
              "      <td>cormobilities</td>\n",
              "      <td>1</td>\n",
              "      <td>762683</td>\n",
              "    </tr>\n",
              "    <tr>\n",
              "      <th>762684</th>\n",
              "      <td>progation</td>\n",
              "      <td>1</td>\n",
              "      <td>762684</td>\n",
              "    </tr>\n",
              "    <tr>\n",
              "      <th>762685</th>\n",
              "      <td>preprintdecision</td>\n",
              "      <td>1</td>\n",
              "      <td>762685</td>\n",
              "    </tr>\n",
              "  </tbody>\n",
              "</table>\n",
              "<p>762685 rows × 3 columns</p>\n",
              "</div>\n",
              "      <button class=\"colab-df-convert\" onclick=\"convertToInteractive('df-400c11c0-5886-4b21-bfb7-5fc94bea3e07')\"\n",
              "              title=\"Convert this dataframe to an interactive table.\"\n",
              "              style=\"display:none;\">\n",
              "        \n",
              "  <svg xmlns=\"http://www.w3.org/2000/svg\" height=\"24px\"viewBox=\"0 0 24 24\"\n",
              "       width=\"24px\">\n",
              "    <path d=\"M0 0h24v24H0V0z\" fill=\"none\"/>\n",
              "    <path d=\"M18.56 5.44l.94 2.06.94-2.06 2.06-.94-2.06-.94-.94-2.06-.94 2.06-2.06.94zm-11 1L8.5 8.5l.94-2.06 2.06-.94-2.06-.94L8.5 2.5l-.94 2.06-2.06.94zm10 10l.94 2.06.94-2.06 2.06-.94-2.06-.94-.94-2.06-.94 2.06-2.06.94z\"/><path d=\"M17.41 7.96l-1.37-1.37c-.4-.4-.92-.59-1.43-.59-.52 0-1.04.2-1.43.59L10.3 9.45l-7.72 7.72c-.78.78-.78 2.05 0 2.83L4 21.41c.39.39.9.59 1.41.59.51 0 1.02-.2 1.41-.59l7.78-7.78 2.81-2.81c.8-.78.8-2.07 0-2.86zM5.41 20L4 18.59l7.72-7.72 1.47 1.35L5.41 20z\"/>\n",
              "  </svg>\n",
              "      </button>\n",
              "      \n",
              "  <style>\n",
              "    .colab-df-container {\n",
              "      display:flex;\n",
              "      flex-wrap:wrap;\n",
              "      gap: 12px;\n",
              "    }\n",
              "\n",
              "    .colab-df-convert {\n",
              "      background-color: #E8F0FE;\n",
              "      border: none;\n",
              "      border-radius: 50%;\n",
              "      cursor: pointer;\n",
              "      display: none;\n",
              "      fill: #1967D2;\n",
              "      height: 32px;\n",
              "      padding: 0 0 0 0;\n",
              "      width: 32px;\n",
              "    }\n",
              "\n",
              "    .colab-df-convert:hover {\n",
              "      background-color: #E2EBFA;\n",
              "      box-shadow: 0px 1px 2px rgba(60, 64, 67, 0.3), 0px 1px 3px 1px rgba(60, 64, 67, 0.15);\n",
              "      fill: #174EA6;\n",
              "    }\n",
              "\n",
              "    [theme=dark] .colab-df-convert {\n",
              "      background-color: #3B4455;\n",
              "      fill: #D2E3FC;\n",
              "    }\n",
              "\n",
              "    [theme=dark] .colab-df-convert:hover {\n",
              "      background-color: #434B5C;\n",
              "      box-shadow: 0px 1px 3px 1px rgba(0, 0, 0, 0.15);\n",
              "      filter: drop-shadow(0px 1px 2px rgba(0, 0, 0, 0.3));\n",
              "      fill: #FFFFFF;\n",
              "    }\n",
              "  </style>\n",
              "\n",
              "      <script>\n",
              "        const buttonEl =\n",
              "          document.querySelector('#df-400c11c0-5886-4b21-bfb7-5fc94bea3e07 button.colab-df-convert');\n",
              "        buttonEl.style.display =\n",
              "          google.colab.kernel.accessAllowed ? 'block' : 'none';\n",
              "\n",
              "        async function convertToInteractive(key) {\n",
              "          const element = document.querySelector('#df-400c11c0-5886-4b21-bfb7-5fc94bea3e07');\n",
              "          const dataTable =\n",
              "            await google.colab.kernel.invokeFunction('convertToInteractive',\n",
              "                                                     [key], {});\n",
              "          if (!dataTable) return;\n",
              "\n",
              "          const docLinkHtml = 'Like what you see? Visit the ' +\n",
              "            '<a target=\"_blank\" href=https://colab.research.google.com/notebooks/data_table.ipynb>data table notebook</a>'\n",
              "            + ' to learn more about interactive tables.';\n",
              "          element.innerHTML = '';\n",
              "          dataTable['output_type'] = 'display_data';\n",
              "          await google.colab.output.renderOutput(dataTable, element);\n",
              "          const docLink = document.createElement('div');\n",
              "          docLink.innerHTML = docLinkHtml;\n",
              "          element.appendChild(docLink);\n",
              "        }\n",
              "      </script>\n",
              "    </div>\n",
              "  </div>\n",
              "  "
            ]
          },
          "metadata": {},
          "execution_count": 34
        }
      ],
      "source": [
        "df.rename(columns = {0:'rank', 1:'word', 2: 'frequency', 3:'rank*freq'}, inplace = True)\n",
        "#df = df.drop('Unnamed: 0', 1)\n",
        "df.set_index('rank')"
      ]
    },
    {
      "cell_type": "code",
      "execution_count": null,
      "metadata": {
        "colab": {
          "base_uri": "https://localhost:8080/",
          "height": 143
        },
        "id": "76AJLR7AiusK",
        "outputId": "70c5843f-da1a-4b1c-af53-889f0ec3ff79"
      },
      "outputs": [
        {
          "output_type": "execute_result",
          "data": {
            "text/plain": [
              "   rank     word  frequency  rank*freq\n",
              "0     1  patient     900582     900582\n",
              "1     2     cell     813280    1626560\n",
              "2     3    study     705481    2116443"
            ],
            "text/html": [
              "\n",
              "  <div id=\"df-13e12251-d853-4304-9ecf-2d79c2dd50cd\">\n",
              "    <div class=\"colab-df-container\">\n",
              "      <div>\n",
              "<style scoped>\n",
              "    .dataframe tbody tr th:only-of-type {\n",
              "        vertical-align: middle;\n",
              "    }\n",
              "\n",
              "    .dataframe tbody tr th {\n",
              "        vertical-align: top;\n",
              "    }\n",
              "\n",
              "    .dataframe thead th {\n",
              "        text-align: right;\n",
              "    }\n",
              "</style>\n",
              "<table border=\"1\" class=\"dataframe\">\n",
              "  <thead>\n",
              "    <tr style=\"text-align: right;\">\n",
              "      <th></th>\n",
              "      <th>rank</th>\n",
              "      <th>word</th>\n",
              "      <th>frequency</th>\n",
              "      <th>rank*freq</th>\n",
              "    </tr>\n",
              "  </thead>\n",
              "  <tbody>\n",
              "    <tr>\n",
              "      <th>0</th>\n",
              "      <td>1</td>\n",
              "      <td>patient</td>\n",
              "      <td>900582</td>\n",
              "      <td>900582</td>\n",
              "    </tr>\n",
              "    <tr>\n",
              "      <th>1</th>\n",
              "      <td>2</td>\n",
              "      <td>cell</td>\n",
              "      <td>813280</td>\n",
              "      <td>1626560</td>\n",
              "    </tr>\n",
              "    <tr>\n",
              "      <th>2</th>\n",
              "      <td>3</td>\n",
              "      <td>study</td>\n",
              "      <td>705481</td>\n",
              "      <td>2116443</td>\n",
              "    </tr>\n",
              "  </tbody>\n",
              "</table>\n",
              "</div>\n",
              "      <button class=\"colab-df-convert\" onclick=\"convertToInteractive('df-13e12251-d853-4304-9ecf-2d79c2dd50cd')\"\n",
              "              title=\"Convert this dataframe to an interactive table.\"\n",
              "              style=\"display:none;\">\n",
              "        \n",
              "  <svg xmlns=\"http://www.w3.org/2000/svg\" height=\"24px\"viewBox=\"0 0 24 24\"\n",
              "       width=\"24px\">\n",
              "    <path d=\"M0 0h24v24H0V0z\" fill=\"none\"/>\n",
              "    <path d=\"M18.56 5.44l.94 2.06.94-2.06 2.06-.94-2.06-.94-.94-2.06-.94 2.06-2.06.94zm-11 1L8.5 8.5l.94-2.06 2.06-.94-2.06-.94L8.5 2.5l-.94 2.06-2.06.94zm10 10l.94 2.06.94-2.06 2.06-.94-2.06-.94-.94-2.06-.94 2.06-2.06.94z\"/><path d=\"M17.41 7.96l-1.37-1.37c-.4-.4-.92-.59-1.43-.59-.52 0-1.04.2-1.43.59L10.3 9.45l-7.72 7.72c-.78.78-.78 2.05 0 2.83L4 21.41c.39.39.9.59 1.41.59.51 0 1.02-.2 1.41-.59l7.78-7.78 2.81-2.81c.8-.78.8-2.07 0-2.86zM5.41 20L4 18.59l7.72-7.72 1.47 1.35L5.41 20z\"/>\n",
              "  </svg>\n",
              "      </button>\n",
              "      \n",
              "  <style>\n",
              "    .colab-df-container {\n",
              "      display:flex;\n",
              "      flex-wrap:wrap;\n",
              "      gap: 12px;\n",
              "    }\n",
              "\n",
              "    .colab-df-convert {\n",
              "      background-color: #E8F0FE;\n",
              "      border: none;\n",
              "      border-radius: 50%;\n",
              "      cursor: pointer;\n",
              "      display: none;\n",
              "      fill: #1967D2;\n",
              "      height: 32px;\n",
              "      padding: 0 0 0 0;\n",
              "      width: 32px;\n",
              "    }\n",
              "\n",
              "    .colab-df-convert:hover {\n",
              "      background-color: #E2EBFA;\n",
              "      box-shadow: 0px 1px 2px rgba(60, 64, 67, 0.3), 0px 1px 3px 1px rgba(60, 64, 67, 0.15);\n",
              "      fill: #174EA6;\n",
              "    }\n",
              "\n",
              "    [theme=dark] .colab-df-convert {\n",
              "      background-color: #3B4455;\n",
              "      fill: #D2E3FC;\n",
              "    }\n",
              "\n",
              "    [theme=dark] .colab-df-convert:hover {\n",
              "      background-color: #434B5C;\n",
              "      box-shadow: 0px 1px 3px 1px rgba(0, 0, 0, 0.15);\n",
              "      filter: drop-shadow(0px 1px 2px rgba(0, 0, 0, 0.3));\n",
              "      fill: #FFFFFF;\n",
              "    }\n",
              "  </style>\n",
              "\n",
              "      <script>\n",
              "        const buttonEl =\n",
              "          document.querySelector('#df-13e12251-d853-4304-9ecf-2d79c2dd50cd button.colab-df-convert');\n",
              "        buttonEl.style.display =\n",
              "          google.colab.kernel.accessAllowed ? 'block' : 'none';\n",
              "\n",
              "        async function convertToInteractive(key) {\n",
              "          const element = document.querySelector('#df-13e12251-d853-4304-9ecf-2d79c2dd50cd');\n",
              "          const dataTable =\n",
              "            await google.colab.kernel.invokeFunction('convertToInteractive',\n",
              "                                                     [key], {});\n",
              "          if (!dataTable) return;\n",
              "\n",
              "          const docLinkHtml = 'Like what you see? Visit the ' +\n",
              "            '<a target=\"_blank\" href=https://colab.research.google.com/notebooks/data_table.ipynb>data table notebook</a>'\n",
              "            + ' to learn more about interactive tables.';\n",
              "          element.innerHTML = '';\n",
              "          dataTable['output_type'] = 'display_data';\n",
              "          await google.colab.output.renderOutput(dataTable, element);\n",
              "          const docLink = document.createElement('div');\n",
              "          docLink.innerHTML = docLinkHtml;\n",
              "          element.appendChild(docLink);\n",
              "        }\n",
              "      </script>\n",
              "    </div>\n",
              "  </div>\n",
              "  "
            ]
          },
          "metadata": {},
          "execution_count": 35
        }
      ],
      "source": [
        "df.head(3)"
      ]
    },
    {
      "cell_type": "code",
      "execution_count": null,
      "metadata": {
        "id": "JnyH9Jmn1bQv"
      },
      "outputs": [],
      "source": [
        "df.to_csv('/content/drive/MyDrive/DataSets/pdf_json2/frequency_dataframe.csv')"
      ]
    },
    {
      "cell_type": "markdown",
      "metadata": {
        "id": "ndxK9AXy15Oa"
      },
      "source": [
        "# From frequency DataFrame"
      ]
    },
    {
      "cell_type": "code",
      "execution_count": null,
      "metadata": {
        "id": "v2uQUaqa1eUI"
      },
      "outputs": [],
      "source": [
        "df = pd.read_csv('/content/drive/MyDrive/DataSets/pdf_json2/frequency_dataframe.csv')"
      ]
    },
    {
      "cell_type": "code",
      "execution_count": null,
      "metadata": {
        "colab": {
          "base_uri": "https://localhost:8080/",
          "height": 143
        },
        "id": "HOrQeYzaViY9",
        "outputId": "ec0a6f4c-214e-4158-91ad-75aeb60431f5"
      },
      "outputs": [
        {
          "output_type": "execute_result",
          "data": {
            "text/plain": [
              "   Unnamed: 0  rank     word  frequency  rank*freq\n",
              "0           0     1  patient     900582     900582\n",
              "1           1     2     cell     813280    1626560\n",
              "2           2     3    study     705481    2116443"
            ],
            "text/html": [
              "\n",
              "  <div id=\"df-d704f60e-9c4c-4ad6-9d1e-b1ee165b5723\">\n",
              "    <div class=\"colab-df-container\">\n",
              "      <div>\n",
              "<style scoped>\n",
              "    .dataframe tbody tr th:only-of-type {\n",
              "        vertical-align: middle;\n",
              "    }\n",
              "\n",
              "    .dataframe tbody tr th {\n",
              "        vertical-align: top;\n",
              "    }\n",
              "\n",
              "    .dataframe thead th {\n",
              "        text-align: right;\n",
              "    }\n",
              "</style>\n",
              "<table border=\"1\" class=\"dataframe\">\n",
              "  <thead>\n",
              "    <tr style=\"text-align: right;\">\n",
              "      <th></th>\n",
              "      <th>Unnamed: 0</th>\n",
              "      <th>rank</th>\n",
              "      <th>word</th>\n",
              "      <th>frequency</th>\n",
              "      <th>rank*freq</th>\n",
              "    </tr>\n",
              "  </thead>\n",
              "  <tbody>\n",
              "    <tr>\n",
              "      <th>0</th>\n",
              "      <td>0</td>\n",
              "      <td>1</td>\n",
              "      <td>patient</td>\n",
              "      <td>900582</td>\n",
              "      <td>900582</td>\n",
              "    </tr>\n",
              "    <tr>\n",
              "      <th>1</th>\n",
              "      <td>1</td>\n",
              "      <td>2</td>\n",
              "      <td>cell</td>\n",
              "      <td>813280</td>\n",
              "      <td>1626560</td>\n",
              "    </tr>\n",
              "    <tr>\n",
              "      <th>2</th>\n",
              "      <td>2</td>\n",
              "      <td>3</td>\n",
              "      <td>study</td>\n",
              "      <td>705481</td>\n",
              "      <td>2116443</td>\n",
              "    </tr>\n",
              "  </tbody>\n",
              "</table>\n",
              "</div>\n",
              "      <button class=\"colab-df-convert\" onclick=\"convertToInteractive('df-d704f60e-9c4c-4ad6-9d1e-b1ee165b5723')\"\n",
              "              title=\"Convert this dataframe to an interactive table.\"\n",
              "              style=\"display:none;\">\n",
              "        \n",
              "  <svg xmlns=\"http://www.w3.org/2000/svg\" height=\"24px\"viewBox=\"0 0 24 24\"\n",
              "       width=\"24px\">\n",
              "    <path d=\"M0 0h24v24H0V0z\" fill=\"none\"/>\n",
              "    <path d=\"M18.56 5.44l.94 2.06.94-2.06 2.06-.94-2.06-.94-.94-2.06-.94 2.06-2.06.94zm-11 1L8.5 8.5l.94-2.06 2.06-.94-2.06-.94L8.5 2.5l-.94 2.06-2.06.94zm10 10l.94 2.06.94-2.06 2.06-.94-2.06-.94-.94-2.06-.94 2.06-2.06.94z\"/><path d=\"M17.41 7.96l-1.37-1.37c-.4-.4-.92-.59-1.43-.59-.52 0-1.04.2-1.43.59L10.3 9.45l-7.72 7.72c-.78.78-.78 2.05 0 2.83L4 21.41c.39.39.9.59 1.41.59.51 0 1.02-.2 1.41-.59l7.78-7.78 2.81-2.81c.8-.78.8-2.07 0-2.86zM5.41 20L4 18.59l7.72-7.72 1.47 1.35L5.41 20z\"/>\n",
              "  </svg>\n",
              "      </button>\n",
              "      \n",
              "  <style>\n",
              "    .colab-df-container {\n",
              "      display:flex;\n",
              "      flex-wrap:wrap;\n",
              "      gap: 12px;\n",
              "    }\n",
              "\n",
              "    .colab-df-convert {\n",
              "      background-color: #E8F0FE;\n",
              "      border: none;\n",
              "      border-radius: 50%;\n",
              "      cursor: pointer;\n",
              "      display: none;\n",
              "      fill: #1967D2;\n",
              "      height: 32px;\n",
              "      padding: 0 0 0 0;\n",
              "      width: 32px;\n",
              "    }\n",
              "\n",
              "    .colab-df-convert:hover {\n",
              "      background-color: #E2EBFA;\n",
              "      box-shadow: 0px 1px 2px rgba(60, 64, 67, 0.3), 0px 1px 3px 1px rgba(60, 64, 67, 0.15);\n",
              "      fill: #174EA6;\n",
              "    }\n",
              "\n",
              "    [theme=dark] .colab-df-convert {\n",
              "      background-color: #3B4455;\n",
              "      fill: #D2E3FC;\n",
              "    }\n",
              "\n",
              "    [theme=dark] .colab-df-convert:hover {\n",
              "      background-color: #434B5C;\n",
              "      box-shadow: 0px 1px 3px 1px rgba(0, 0, 0, 0.15);\n",
              "      filter: drop-shadow(0px 1px 2px rgba(0, 0, 0, 0.3));\n",
              "      fill: #FFFFFF;\n",
              "    }\n",
              "  </style>\n",
              "\n",
              "      <script>\n",
              "        const buttonEl =\n",
              "          document.querySelector('#df-d704f60e-9c4c-4ad6-9d1e-b1ee165b5723 button.colab-df-convert');\n",
              "        buttonEl.style.display =\n",
              "          google.colab.kernel.accessAllowed ? 'block' : 'none';\n",
              "\n",
              "        async function convertToInteractive(key) {\n",
              "          const element = document.querySelector('#df-d704f60e-9c4c-4ad6-9d1e-b1ee165b5723');\n",
              "          const dataTable =\n",
              "            await google.colab.kernel.invokeFunction('convertToInteractive',\n",
              "                                                     [key], {});\n",
              "          if (!dataTable) return;\n",
              "\n",
              "          const docLinkHtml = 'Like what you see? Visit the ' +\n",
              "            '<a target=\"_blank\" href=https://colab.research.google.com/notebooks/data_table.ipynb>data table notebook</a>'\n",
              "            + ' to learn more about interactive tables.';\n",
              "          element.innerHTML = '';\n",
              "          dataTable['output_type'] = 'display_data';\n",
              "          await google.colab.output.renderOutput(dataTable, element);\n",
              "          const docLink = document.createElement('div');\n",
              "          docLink.innerHTML = docLinkHtml;\n",
              "          element.appendChild(docLink);\n",
              "        }\n",
              "      </script>\n",
              "    </div>\n",
              "  </div>\n",
              "  "
            ]
          },
          "metadata": {},
          "execution_count": 38
        }
      ],
      "source": [
        "df.head(3)"
      ]
    },
    {
      "cell_type": "code",
      "execution_count": null,
      "metadata": {
        "colab": {
          "base_uri": "https://localhost:8080/",
          "height": 295
        },
        "id": "UqspwmWQ1tVJ",
        "outputId": "3ebf75b2-c116-4351-b2e8-453e0a1a3209"
      },
      "outputs": [
        {
          "output_type": "display_data",
          "data": {
            "text/plain": [
              "<Figure size 432x288 with 1 Axes>"
            ],
            "image/png": "[encoded data removed]"
          },
          "metadata": {
            "needs_background": "light"
          }
        }
      ],
      "source": [
        "plt.plot(df['rank'][:500], (df['frequency'][:500]))\n",
        "plt.xlabel('rank')\n",
        "plt.ylabel('frequency')\n",
        "plt.legend('Actual')\n",
        "plt.title('rank vs frequency for top 500 words')\n",
        "plt.show()"
      ]
    },
    {
      "cell_type": "markdown",
      "metadata": {
        "id": "ICQUN-7N4FLR"
      },
      "source": [
        "frequency $∝ \\frac{1}{r^ᵅ} \\n \\implies frequency = \\frac{k}{r^\\alpha} \\implies α  = \\frac{\\log k - \\log frequency}{\\log r}$\n"
      ]
    },
    {
      "cell_type": "code",
      "execution_count": null,
      "metadata": {
        "id": "-IotDBDE6hAl"
      },
      "outputs": [],
      "source": [
        "k = df['frequency'][0]"
      ]
    },
    {
      "cell_type": "code",
      "execution_count": null,
      "metadata": {
        "id": "kq0CwQVc36Km"
      },
      "outputs": [],
      "source": [
        "def alpha_estimates(rank, freq):\n",
        "    return (np.log(k/freq))/np.log(rank)\n",
        "\n",
        "def alpha_df(df):\n",
        "    alphas = list()\n",
        "    for i in range(len(df)):\n",
        "        ta = alpha_estimates(df['rank'][i], df['frequency'][i])\n",
        "        alphas.append(ta)\n",
        "    return alphas[1:]"
      ]
    },
    {
      "cell_type": "code",
      "execution_count": null,
      "metadata": {
        "colab": {
          "base_uri": "https://localhost:8080/"
        },
        "id": "sMZBU2ra7VGs",
        "outputId": "86274f5d-c188-4995-faae-ee7c3768c9d8"
      },
      "outputs": [
        {
          "output_type": "stream",
          "name": "stderr",
          "text": [
            "/usr/local/lib/python3.7/dist-packages/ipykernel_launcher.py:2: RuntimeWarning: invalid value encountered in double_scalars\n",
            "  \n"
          ]
        }
      ],
      "source": [
        "a = alpha_df(df)"
      ]
    },
    {
      "cell_type": "code",
      "execution_count": null,
      "metadata": {
        "colab": {
          "base_uri": "https://localhost:8080/"
        },
        "id": "TqGKhpi0-eGL",
        "outputId": "6e09df58-8fce-45ca-9cc5-9d5b74fef0d9"
      },
      "outputs": [
        {
          "output_type": "stream",
          "name": "stdout",
          "text": [
            "Value of alpha is 1.003945605447623\n"
          ]
        }
      ],
      "source": [
        "alpha = np.mean(a)\n",
        "print(f'Value of alpha is {alpha}')"
      ]
    },
    {
      "cell_type": "code",
      "execution_count": null,
      "metadata": {
        "colab": {
          "base_uri": "https://localhost:8080/",
          "height": 295
        },
        "id": "FrD-qWP98e9M",
        "outputId": "1b3bf894-3a7f-4a86-a4e5-95bd9919f480"
      },
      "outputs": [
        {
          "output_type": "display_data",
          "data": {
            "text/plain": [
              "<Figure size 432x288 with 1 Axes>"
            ],
            "image/png": "[encoded data removed]"
          },
          "metadata": {
            "needs_background": "light"
          }
        }
      ],
      "source": [
        "x = df['rank'][:500]\n",
        "y1 = df['frequency'][:500]\n",
        "y2 = k/(x**alpha)\n",
        "plt.plot(np.log(x), np.log(y1))\n",
        "plt.plot(np.log(x),np.log(y2))\n",
        "plt.xlabel('rank')\n",
        "plt.ylabel('frequency')\n",
        "plt.legend(['Actual','alpha'])\n",
        "plt.title('rank vs frequency for top 500 words')\n",
        "plt.show()"
      ]
    },
    {
      "cell_type": "code",
      "execution_count": null,
      "metadata": {
        "colab": {
          "base_uri": "https://localhost:8080/",
          "height": 206
        },
        "id": "VYVt_J0bjDCt",
        "outputId": "060f4ee6-1fa5-4e91-d920-c826bf8cf328"
      },
      "outputs": [
        {
          "output_type": "execute_result",
          "data": {
            "text/plain": [
              "        Unnamed: 0    rank              word  frequency  rank*freq\n",
              "762680      762680  762681              xcep          1     762681\n",
              "762681      762681  762682           tionnet          1     762682\n",
              "762682      762682  762683     cormobilities          1     762683\n",
              "762683      762683  762684         progation          1     762684\n",
              "762684      762684  762685  preprintdecision          1     762685"
            ],
            "text/html": [
              "\n",
              "  <div id=\"df-553d4a27-ad73-4396-a6fd-00bdcb9d73d5\">\n",
              "    <div class=\"colab-df-container\">\n",
              "      <div>\n",
              "<style scoped>\n",
              "    .dataframe tbody tr th:only-of-type {\n",
              "        vertical-align: middle;\n",
              "    }\n",
              "\n",
              "    .dataframe tbody tr th {\n",
              "        vertical-align: top;\n",
              "    }\n",
              "\n",
              "    .dataframe thead th {\n",
              "        text-align: right;\n",
              "    }\n",
              "</style>\n",
              "<table border=\"1\" class=\"dataframe\">\n",
              "  <thead>\n",
              "    <tr style=\"text-align: right;\">\n",
              "      <th></th>\n",
              "      <th>Unnamed: 0</th>\n",
              "      <th>rank</th>\n",
              "      <th>word</th>\n",
              "      <th>frequency</th>\n",
              "      <th>rank*freq</th>\n",
              "    </tr>\n",
              "  </thead>\n",
              "  <tbody>\n",
              "    <tr>\n",
              "      <th>762680</th>\n",
              "      <td>762680</td>\n",
              "      <td>762681</td>\n",
              "      <td>xcep</td>\n",
              "      <td>1</td>\n",
              "      <td>762681</td>\n",
              "    </tr>\n",
              "    <tr>\n",
              "      <th>762681</th>\n",
              "      <td>762681</td>\n",
              "      <td>762682</td>\n",
              "      <td>tionnet</td>\n",
              "      <td>1</td>\n",
              "      <td>762682</td>\n",
              "    </tr>\n",
              "    <tr>\n",
              "      <th>762682</th>\n",
              "      <td>762682</td>\n",
              "      <td>762683</td>\n",
              "      <td>cormobilities</td>\n",
              "      <td>1</td>\n",
              "      <td>762683</td>\n",
              "    </tr>\n",
              "    <tr>\n",
              "      <th>762683</th>\n",
              "      <td>762683</td>\n",
              "      <td>762684</td>\n",
              "      <td>progation</td>\n",
              "      <td>1</td>\n",
              "      <td>762684</td>\n",
              "    </tr>\n",
              "    <tr>\n",
              "      <th>762684</th>\n",
              "      <td>762684</td>\n",
              "      <td>762685</td>\n",
              "      <td>preprintdecision</td>\n",
              "      <td>1</td>\n",
              "      <td>762685</td>\n",
              "    </tr>\n",
              "  </tbody>\n",
              "</table>\n",
              "</div>\n",
              "      <button class=\"colab-df-convert\" onclick=\"convertToInteractive('df-553d4a27-ad73-4396-a6fd-00bdcb9d73d5')\"\n",
              "              title=\"Convert this dataframe to an interactive table.\"\n",
              "              style=\"display:none;\">\n",
              "        \n",
              "  <svg xmlns=\"http://www.w3.org/2000/svg\" height=\"24px\"viewBox=\"0 0 24 24\"\n",
              "       width=\"24px\">\n",
              "    <path d=\"M0 0h24v24H0V0z\" fill=\"none\"/>\n",
              "    <path d=\"M18.56 5.44l.94 2.06.94-2.06 2.06-.94-2.06-.94-.94-2.06-.94 2.06-2.06.94zm-11 1L8.5 8.5l.94-2.06 2.06-.94-2.06-.94L8.5 2.5l-.94 2.06-2.06.94zm10 10l.94 2.06.94-2.06 2.06-.94-2.06-.94-.94-2.06-.94 2.06-2.06.94z\"/><path d=\"M17.41 7.96l-1.37-1.37c-.4-.4-.92-.59-1.43-.59-.52 0-1.04.2-1.43.59L10.3 9.45l-7.72 7.72c-.78.78-.78 2.05 0 2.83L4 21.41c.39.39.9.59 1.41.59.51 0 1.02-.2 1.41-.59l7.78-7.78 2.81-2.81c.8-.78.8-2.07 0-2.86zM5.41 20L4 18.59l7.72-7.72 1.47 1.35L5.41 20z\"/>\n",
              "  </svg>\n",
              "      </button>\n",
              "      \n",
              "  <style>\n",
              "    .colab-df-container {\n",
              "      display:flex;\n",
              "      flex-wrap:wrap;\n",
              "      gap: 12px;\n",
              "    }\n",
              "\n",
              "    .colab-df-convert {\n",
              "      background-color: #E8F0FE;\n",
              "      border: none;\n",
              "      border-radius: 50%;\n",
              "      cursor: pointer;\n",
              "      display: none;\n",
              "      fill: #1967D2;\n",
              "      height: 32px;\n",
              "      padding: 0 0 0 0;\n",
              "      width: 32px;\n",
              "    }\n",
              "\n",
              "    .colab-df-convert:hover {\n",
              "      background-color: #E2EBFA;\n",
              "      box-shadow: 0px 1px 2px rgba(60, 64, 67, 0.3), 0px 1px 3px 1px rgba(60, 64, 67, 0.15);\n",
              "      fill: #174EA6;\n",
              "    }\n",
              "\n",
              "    [theme=dark] .colab-df-convert {\n",
              "      background-color: #3B4455;\n",
              "      fill: #D2E3FC;\n",
              "    }\n",
              "\n",
              "    [theme=dark] .colab-df-convert:hover {\n",
              "      background-color: #434B5C;\n",
              "      box-shadow: 0px 1px 3px 1px rgba(0, 0, 0, 0.15);\n",
              "      filter: drop-shadow(0px 1px 2px rgba(0, 0, 0, 0.3));\n",
              "      fill: #FFFFFF;\n",
              "    }\n",
              "  </style>\n",
              "\n",
              "      <script>\n",
              "        const buttonEl =\n",
              "          document.querySelector('#df-553d4a27-ad73-4396-a6fd-00bdcb9d73d5 button.colab-df-convert');\n",
              "        buttonEl.style.display =\n",
              "          google.colab.kernel.accessAllowed ? 'block' : 'none';\n",
              "\n",
              "        async function convertToInteractive(key) {\n",
              "          const element = document.querySelector('#df-553d4a27-ad73-4396-a6fd-00bdcb9d73d5');\n",
              "          const dataTable =\n",
              "            await google.colab.kernel.invokeFunction('convertToInteractive',\n",
              "                                                     [key], {});\n",
              "          if (!dataTable) return;\n",
              "\n",
              "          const docLinkHtml = 'Like what you see? Visit the ' +\n",
              "            '<a target=\"_blank\" href=https://colab.research.google.com/notebooks/data_table.ipynb>data table notebook</a>'\n",
              "            + ' to learn more about interactive tables.';\n",
              "          element.innerHTML = '';\n",
              "          dataTable['output_type'] = 'display_data';\n",
              "          await google.colab.output.renderOutput(dataTable, element);\n",
              "          const docLink = document.createElement('div');\n",
              "          docLink.innerHTML = docLinkHtml;\n",
              "          element.appendChild(docLink);\n",
              "        }\n",
              "      </script>\n",
              "    </div>\n",
              "  </div>\n",
              "  "
            ]
          },
          "metadata": {},
          "execution_count": 45
        }
      ],
      "source": [
        "df.tail()"
      ]
    },
    {
      "cell_type": "markdown",
      "metadata": {
        "id": "0wQUrydt389z"
      },
      "source": [
        "#Heaps Law"
      ]
    },
    {
      "cell_type": "code",
      "execution_count": null,
      "metadata": {
        "id": "cUXGDEmD6YYv"
      },
      "outputs": [],
      "source": [
        "vocab_dict = dict()\n",
        "vocab_dict['word count'] = word_count\n",
        "vocab_dict['vocabulary count'] = vocab_count\n",
        "vocab_df = pd.DataFrame(vocab_dict)\n",
        "vocab_df.to_csv('/content/drive/MyDrive/DataSets/pdf_json2/vocab_datframe.csv', index = False)"
      ]
    },
    {
      "cell_type": "code",
      "execution_count": null,
      "metadata": {
        "id": "Z5AM1b7C4AhB"
      },
      "outputs": [],
      "source": [
        "vocab_df = pd.read_csv('/content/drive/MyDrive/DataSets/pdf_json2/vocab_datframe.csv')\n",
        "w = vocab_df['word count']\n",
        "v = vocab_df['vocabulary count']\n",
        "log_w = np.log(w)\n",
        "log_v = np.log(v)\n"
      ]
    },
    {
      "cell_type": "code",
      "source": [
        "x1 = log_w[0]\n",
        "x2 = log_v[1000]\n",
        "y1 = log_w[0]\n",
        "y2 = log_v[1000]\n",
        "\n",
        "b = (y2-y1)/(x2-x1)\n",
        "log_k = y1 - (b*x1)\n",
        "\n",
        "log_M_estimate=log_k + (b*log_w)"
      ],
      "metadata": {
        "id": "v_JUVgdLPOwf"
      },
      "execution_count": null,
      "outputs": []
    },
    {
      "cell_type": "code",
      "execution_count": null,
      "metadata": {
        "colab": {
          "base_uri": "https://localhost:8080/",
          "height": 265
        },
        "id": "i2g0uX4X6O1J",
        "outputId": "3f1ee3e5-b284-42d8-b464-83374c4a064a"
      },
      "outputs": [
        {
          "output_type": "display_data",
          "data": {
            "text/plain": [
              "<Figure size 432x288 with 1 Axes>"
            ],
            "image/png": "[encoded data removed]"
          },
          "metadata": {
            "needs_background": "light"
          }
        }
      ],
      "source": [
        "plt.plot(np.log(w), np.log(v))\n",
        "plt.plot(np.log(w), log_M_estimate)\n",
        "plt.show()"
      ]
    },
    {
      "cell_type": "code",
      "source": [
        ""
      ],
      "metadata": {
        "id": "ZYJNxPxaP7eI"
      },
      "execution_count": null,
      "outputs": []
    }
  ],
  "metadata": {
    "accelerator": "GPU",
    "colab": {
      "collapsed_sections": [
        "-hPE97whMRqX",
        "5iSu-bFmMJT_"
      ],
      "name": "NLP_Assignment_01.ipynb",
      "provenance": []
    },
    "kernelspec": {
      "display_name": "Python 3",
      "name": "python3"
    },
    "language_info": {
      "name": "python"
    }
  },
  "nbformat": 4,
  "nbformat_minor": 0
}